{
 "cells": [
  {
   "cell_type": "code",
   "execution_count": 1,
   "metadata": {},
   "outputs": [
    {
     "name": "stdout",
     "output_type": "stream",
     "text": [
      "10330.442422213277\n"
     ]
    }
   ],
   "source": [
    "#Planck Function as per https://ncc.nesdis.noaa.gov/data/planck.html\n",
    "import numpy as np\n",
    "c1 = 1.191042*10**8\n",
    "c2 = 1.4387752*10**4\n",
    "t = 1273\n",
    "w = 1.65\n",
    "\n",
    "L = c1/((w**5)*(np.exp(c2/(w*t))-1))\n",
    "\n",
    "print L"
   ]
  },
  {
   "cell_type": "code",
   "execution_count": 4,
   "metadata": {},
   "outputs": [
    {
     "name": "stdout",
     "output_type": "stream",
     "text": [
      "665.845641765911\n",
      "392.84564176591095\n"
     ]
    }
   ],
   "source": [
    "#Inverse Planck Function as per https://ncc.nesdis.noaa.gov/data/planck.html\n",
    "c1 = 1.191042*10**8\n",
    "c2 = 1.4387752*10**4\n",
    "L = 20\n",
    "w = 1.65\n",
    "\n",
    "t = c2/(w*np.log(c1/((w**5)*L)+1))\n",
    "\n",
    "print t\n",
    "#kelvin\n",
    "print t-273\n",
    "#celsius"
   ]
  },
  {
   "cell_type": "code",
   "execution_count": 4,
   "metadata": {},
   "outputs": [
    {
     "name": "stdout",
     "output_type": "stream",
     "text": [
      "9297.972663216746\n"
     ]
    }
   ],
   "source": [
    "#Planck function as per Rothery (1988)\n",
    "c1 = 3.742*10**-16\n",
    "c2 = 0.014387752\n",
    "w = 1.65*10**-6\n",
    "t = 1273\n",
    "#temp in kelvin\n",
    "e = 0.8\n",
    "\n",
    "L = ((e*c1*(w**-5))/(np.pi*(np.exp(c2/(w*t))-1)))*10**-6\n",
    "\n",
    "print L"
   ]
  },
  {
   "cell_type": "code",
   "execution_count": 17,
   "metadata": {},
   "outputs": [
    {
     "name": "stdout",
     "output_type": "stream",
     "text": [
      "636.0643716742275\n",
      "363.06437167422746\n"
     ]
    }
   ],
   "source": [
    "#Inverse Planck function as per Rothery (1988)\n",
    "c1 = 3.742*10**-16\n",
    "c2 = 0.014387752\n",
    "w = 1.65*10**-6\n",
    "L = (9.75)*10**6\n",
    "e = 0.8\n",
    "\n",
    "t = c2/(w*np.log(((e*c1*(w**-5))/(np.pi*L))+1))\n",
    "print t\n",
    "#kelvin\n",
    "print t-273\n",
    "#celsius"
   ]
  },
  {
   "cell_type": "code",
   "execution_count": 69,
   "metadata": {},
   "outputs": [
    {
     "name": "stdout",
     "output_type": "stream",
     "text": [
      "648.8606140013111\n",
      "375.8606140013111\n"
     ]
    }
   ],
   "source": [
    "#Inverse Planck function as per Rothery (1988) with transmissivity\n",
    "c1 = 3.742*10**-16\n",
    "c2 = 0.014387752\n",
    "w = 1.61*10**-6\n",
    "L = (9.31)*10**6\n",
    "e = 0.8\n",
    "r = 0.9\n",
    "\n",
    "t = c2/(w*np.log(((e*r*c1*(w**-5))/(np.pi*L))+1))\n",
    "print t\n",
    "#kelvin\n",
    "print t-273\n",
    "#celsius"
   ]
  },
  {
   "cell_type": "code",
   "execution_count": 61,
   "metadata": {},
   "outputs": [
    {
     "name": "stdout",
     "output_type": "stream",
     "text": [
      "0.055601870538309686\n"
     ]
    }
   ],
   "source": [
    "#Planck function as per Rothery (1988) with transmissivity\n",
    "c1 = 3.742*10**-16\n",
    "c2 = 0.014387752\n",
    "w = 1.61*10**-6\n",
    "t = 473\n",
    "#temp in kelvin\n",
    "e = 0.8\n",
    "r = 0.9\n",
    "\n",
    "L = ((e*r*c1*(w**-5))/(np.pi*(np.exp(c2/(w*t))-1)))*10**-6\n",
    "\n",
    "print L"
   ]
  },
  {
   "cell_type": "code",
   "execution_count": null,
   "metadata": {},
   "outputs": [],
   "source": []
  }
 ],
 "metadata": {
  "kernelspec": {
   "display_name": "Python 2",
   "language": "python",
   "name": "python2"
  },
  "language_info": {
   "codemirror_mode": {
    "name": "ipython",
    "version": 2
   },
   "file_extension": ".py",
   "mimetype": "text/x-python",
   "name": "python",
   "nbconvert_exporter": "python",
   "pygments_lexer": "ipython2",
   "version": "2.7.15"
  }
 },
 "nbformat": 4,
 "nbformat_minor": 2
}
