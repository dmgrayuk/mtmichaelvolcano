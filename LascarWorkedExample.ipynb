{
 "cells": [
  {
   "cell_type": "code",
   "execution_count": 2,
   "metadata": {},
   "outputs": [
    {
     "name": "stdout",
     "output_type": "stream",
     "text": [
      "[[1.10163835e+03 1.37205400e-03 1.37205400e-03]]\n"
     ]
    }
   ],
   "source": [
    "#Harris worked example using Lascar volcano variable\n",
    "# code taken verbatim from https://stackoverflow.com/questions/8094374/python-matplotlib-find-intersection-of-lineplots\n",
    "#except for where noted\n",
    "\n",
    "import scipy.interpolate\n",
    "import scipy.optimize as optimize\n",
    "import numpy as np\n",
    "\n",
    "#arrays changed as appropriate\n",
    "x1 = np.array([1100,1200])\n",
    "y1 = np.array([0.00138,0.000895])\n",
    "x2 = np.array([1100,1200])\n",
    "y2 = np.array([0.001245,0.009])   \n",
    "\n",
    "# interpolation method changed\n",
    "p1=scipy.interpolate.BPoly.from_derivatives(x1,y1[:,np.newaxis])\n",
    "p2=scipy.interpolate.BPoly.from_derivatives(x2,y2[:,np.newaxis])\n",
    "\n",
    "def pdiff(x):\n",
    "    return p1(x)-p2(x)\n",
    "\n",
    "xs=np.r_[x1,x2]\n",
    "xs.sort()\n",
    "x_min=xs.min()\n",
    "x_max=xs.max()\n",
    "x_mid=xs[:-1]+np.diff(xs)/2\n",
    "roots=set()\n",
    "for val in x_mid:\n",
    "    root,infodict,ier,mesg = optimize.fsolve(pdiff,val,full_output=True)\n",
    "    if ier==1 and x_min<root<x_max:\n",
    "        roots.add(root[0])\n",
    "roots=list(roots)        \n",
    "print(np.column_stack((roots,p1(roots),p2(roots))))"
   ]
  },
  {
   "cell_type": "code",
   "execution_count": null,
   "metadata": {},
   "outputs": [],
   "source": []
  }
 ],
 "metadata": {
  "kernelspec": {
   "display_name": "Python 2",
   "language": "python",
   "name": "python2"
  },
  "language_info": {
   "codemirror_mode": {
    "name": "ipython",
    "version": 2
   },
   "file_extension": ".py",
   "mimetype": "text/x-python",
   "name": "python",
   "nbconvert_exporter": "python",
   "pygments_lexer": "ipython2",
   "version": "2.7.15"
  }
 },
 "nbformat": 4,
 "nbformat_minor": 2
}
