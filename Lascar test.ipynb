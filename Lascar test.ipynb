  {
   "cell_type": "code",
   "execution_count": 2,
   "metadata": {},
   "outputs": [
    {
     "name": "stdout",
     "output_type": "stream",
     "text": [
      "[[1.2e+03 5.0e-04 5.0e-04]\n",
      " [1.2e+03 5.0e-04 5.0e-04]\n",
      " [1.2e+03 5.0e-04 5.0e-04]\n",
      " [1.2e+03 5.0e-04 5.0e-04]\n",
      " [1.2e+03 5.0e-04 5.0e-04]]\n"
     ]
    }
   ],
   "source": [
    "#Harris example\n",
    "#code taken from https://stackoverflow.com/questions/40580025/np-array-intersection-attributeerror-module-object-has-no-attribute-piece\n",
    "#https://stackoverflow.com/questions/8094374/python-matplotlib-find-intersection-of-lineplots\n",
    "import scipy.interpolate\n",
    "import scipy.optimize as optimize\n",
    "import numpy as np\n",
    "\n",
    "x1 = np.array([900,1000,1100,1200,1400])\n",
    "y1 = np.array([0.022,0.0012,0.00075,0.0005,0.00024])\n",
    "x2 = np.array([900,1000,1100,1200,1400])\n",
    "y2 = np.array([0.0015,0.001,0.0007,0.0005,0.00028])   \n",
    "\n",
    "p1=scipy.interpolate.BPoly.from_derivatives(x1,y1[:,np.newaxis])\n",
    "p2=scipy.interpolate.BPoly.from_derivatives(x2,y2[:,np.newaxis])\n",
    "\n",
    "def pdiff(x):\n",
    "    return p1(x)-p2(x)\n",
    "\n",
    "xs=np.r_[x1,x2]\n",
    "xs.sort()\n",
    "x_min=xs.min()\n",
    "x_max=xs.max()\n",
    "x_mid=xs[:-1]+np.diff(xs)/2\n",
    "roots=set()\n",
    "for val in x_mid:\n",
    "    root,infodict,ier,mesg = optimize.fsolve(pdiff,val,full_output=True)\n",
    "    # ier==1 indicates a root has been found\n",
    "    if ier==1 and x_min<root<x_max:\n",
    "        roots.add(root[0])\n",
    "roots=list(roots)        \n",
    "print(np.column_stack((roots,p1(roots),p2(roots))))\n",
    "\n"
   ]
  },
  {
   "cell_type": "code",
   "execution_count": null,
   "metadata": {},
   "outputs": [],
   "source": []
  }
 ],
 "metadata": {
  "kernelspec": {
   "display_name": "Python 2",
   "language": "python",
   "name": "python2"
  },
  "language_info": {
   "codemirror_mode": {
    "name": "ipython",
    "version": 2
   },
   "file_extension": ".py",
   "mimetype": "text/x-python",
   "name": "python",
   "nbconvert_exporter": "python",
   "pygments_lexer": "ipython2",
   "version": "2.7.15"
  }
 },
 "nbformat": 4,
 "nbformat_minor": 2
}
