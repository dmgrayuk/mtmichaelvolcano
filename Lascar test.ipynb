#Harris example
#code taken from https://stackoverflow.com/questions/40580025/np-array-intersection-attributeerror-module-object-has-no-attribute-piece
#https://stackoverflow.com/questions/8094374/python-matplotlib-find-intersection-of-lineplots
import scipy.interpolate
import scipy.optimize as optimize
import numpy as np

x1 = np.array([900,1000,1100,1200,1400])
y1 = np.array([0.022,0.0012,0.00075,0.0005,0.00024])
x2 = np.array([900,1000,1100,1200,1400])
y2 = np.array([0.0015,0.001,0.0007,0.0005,0.00028])   

p1=scipy.interpolate.BPoly.from_derivatives(x1,y1[:,np.newaxis])
p2=scipy.interpolate.BPoly.from_derivatives(x2,y2[:,np.newaxis])

def pdiff(x):
    return p1(x)-p2(x)

xs=np.r_[x1,x2]
xs.sort()
x_min=xs.min()
x_max=xs.max()
x_mid=xs[:-1]+np.diff(xs)/2
roots=set()
for val in x_mid:
    root,infodict,ier,mesg = optimize.fsolve(pdiff,val,full_output=True)
    # ier==1 indicates a root has been found
    if ier==1 and x_min<root<x_max:
        roots.add(root[0])
roots=list(roots)        
print(np.column_stack((roots,p1(roots),p2(roots))))
