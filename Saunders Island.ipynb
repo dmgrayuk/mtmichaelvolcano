{
 "cells": [
  {
   "cell_type": "code",
   "execution_count": 297,
   "metadata": {},
   "outputs": [
    {
     "name": "stdout",
     "output_type": "stream",
     "text": [
      "24.587510523\n"
     ]
    }
   ],
   "source": [
    "#band 5 calculations for integrated pixel radiance\n",
    "#e is emissivity\n",
    "#t is transmissivity\n",
    "#f is fraction of pixel taken up by cold crust - UNKNOWN\n",
    "#Ltc is radiance of cold crust (K)\n",
    "#Lth is radiance of hot crust (K)\n",
    "#Lp is pixel integrated radiance\n",
    "e=0.9\n",
    "t=0.9\n",
    "f=0.99987\n",
    "Ltc=0.09\n",
    "Lth=188574\n",
    "Lp=e*t*(f*Ltc)+(1-f)*Lth\n",
    "\n",
    "print Lp"
   ]
  },
  {
   "cell_type": "code",
   "execution_count": 290,
   "metadata": {},
   "outputs": [
    {
     "name": "stdout",
     "output_type": "stream",
     "text": [
      "7.4629865295\n"
     ]
    }
   ],
   "source": [
    "#band 7 calculations for integrated pixel radiance\n",
    "#e is emissivity\n",
    "#t is transmissivity\n",
    "#f is fraction of pixel taken up by cold crust - UNKNOWN\n",
    "#Ltc is radiance of cold crust (K)\n",
    "#Lth is radiance of hot crust (K) \n",
    "#Lp is pixel integrated radiance\n",
    "e=0.9\n",
    "t=0.9\n",
    "f=0.999955\n",
    "Ltc=2.29\n",
    "Lth=124626\n",
    "Lp=e*t*(f*Ltc)+(1-f)*Lth\n",
    "\n",
    "print Lp"
   ]
  },
  {
   "cell_type": "code",
   "execution_count": 9,
   "metadata": {},
   "outputs": [],
   "source": [
    "#work out Planck function then plot that rather than the exact values"
   ]
  },
  {
   "cell_type": "code",
   "execution_count": 441,
   "metadata": {},
   "outputs": [
    {
     "data": {
      "image/png": "[encoded data removed]",
      "text/plain": [
       "<Figure size 1080x576 with 1 Axes>"
      ]
     },
     "metadata": {},
     "output_type": "display_data"
    }
   ],
   "source": [
    "#his is irrelevant as calculated wrong\n",
    "import matplotlib.pyplot as plt\n",
    "import numpy as np\n",
    "plt.figure(figsize=(15, 8))\n",
    "x1 = np.array([0.998,0.9985,0.999,0.9995,0.9997,1])\n",
    "y1 = np.array([416,406,384,353,331,192])\n",
    "x2 = np.array([0.998,0.9985,0.999,0.9995,0.9997,1])\n",
    "y2 = np.array([321,312,293,264,246,194])\n",
    "\n",
    "plt.plot(x,y1,'-')\n",
    "plt.plot(x,y2,'-')\n",
    "plt.show()"
   ]
  },
  {
   "cell_type": "code",
   "execution_count": 13,
   "metadata": {},
   "outputs": [
    {
     "name": "stdout",
     "output_type": "stream",
     "text": [
      "[[  0.9999931 195.1954023 195.1954023]]\n"
     ]
    }
   ],
   "source": [
    "#code taken from https://stackoverflow.com/questions/40580025/np-array-intersection-attributeerror-module-object-has-no-attribute-piece\n",
    "#https://stackoverflow.com/questions/8094374/python-matplotlib-find-intersection-of-lineplots\n",
    "import scipy.interpolate\n",
    "import scipy.optimize as optimize\n",
    "import numpy as np\n",
    "\n",
    "x1 = np.array([0.998,0.9985,0.999,0.9995,0.9997,1])\n",
    "y1 = np.array([416,406,384,353,331,192])\n",
    "x2 = np.array([0.998,0.9985,0.999,0.9995,0.9997,1])\n",
    "y2 = np.array([321,312,293,264,246,194])   \n",
    "\n",
    "p1=scipy.interpolate.BPoly.from_derivatives(x1,y1[:,np.newaxis])\n",
    "p2=scipy.interpolate.BPoly.from_derivatives(x2,y2[:,np.newaxis])\n",
    "\n",
    "def pdiff(x):\n",
    "    return p1(x)-p2(x)\n",
    "\n",
    "xs=np.r_[x1,x2]\n",
    "xs.sort()\n",
    "x_min=xs.min()\n",
    "x_max=xs.max()\n",
    "x_mid=xs[:-1]+np.diff(xs)/2\n",
    "roots=set()\n",
    "for val in x_mid:\n",
    "    root,infodict,ier,mesg = optimize.fsolve(pdiff,val,full_output=True)\n",
    "    # ier==1 indicates a root has been found\n",
    "    if ier==1 and x_min<root<x_max:\n",
    "        roots.add(root[0])\n",
    "roots=list(roots)        \n",
    "print(np.column_stack((roots,p1(roots),p2(roots))))\n",
    "\n",
    "#this gives the interpolation point (0.9999931 is the fraction of cold lava in this instance)"
   ]
  },
  {
   "cell_type": "code",
   "execution_count": 1,
   "metadata": {},
   "outputs": [
    {
     "name": "stdout",
     "output_type": "stream",
     "text": [
      "[[7.72463768e+02 8.91304348e-03 8.91304348e-03]]\n"
     ]
    }
   ],
   "source": [
    "#code taken from https://stackoverflow.com/questions/40580025/np-array-intersection-attributeerror-module-object-has-no-attribute-piece\n",
    "#https://stackoverflow.com/questions/8094374/python-matplotlib-find-intersection-of-lineplots\n",
    "import scipy.interpolate\n",
    "import scipy.optimize as optimize\n",
    "import numpy as np\n",
    "\n",
    "x1 = np.array([500,600,700,800,900,1000,1100,1200])\n",
    "y1 = np.array([0.16,0.043,0.015,0.0066,0.0033,0.00185,0.0011,0.00073])\n",
    "x2 = np.array([500,600,700,800,900,1000,1100,1200])\n",
    "y2 = np.array([0.016,0.012,0.01,0.0085,0.007,0.0065,0.006,0.005])   \n",
    "\n",
    "p1=scipy.interpolate.BPoly.from_derivatives(x1,y1[:,np.newaxis])\n",
    "p2=scipy.interpolate.BPoly.from_derivatives(x2,y2[:,np.newaxis])\n",
    "\n",
    "def pdiff(x):\n",
    "    return p1(x)-p2(x)\n",
    "\n",
    "xs=np.r_[x1,x2]\n",
    "xs.sort()\n",
    "x_min=xs.min()\n",
    "x_max=xs.max()\n",
    "x_mid=xs[:-1]+np.diff(xs)/2\n",
    "roots=set()\n",
    "for val in x_mid:\n",
    "    root,infodict,ier,mesg = optimize.fsolve(pdiff,val,full_output=True)\n",
    "    # ier==1 indicates a root has been found\n",
    "    if ier==1 and x_min<root<x_max:\n",
    "        roots.add(root[0])\n",
    "roots=list(roots)        \n",
    "print(np.column_stack((roots,p1(roots),p2(roots))))\n",
    "\n",
    "#this gives the interpolation point (772 degrees C - but assumes uniform temperature)"
   ]
  },
  {
   "cell_type": "code",
   "execution_count": 2,
   "metadata": {},
   "outputs": [
    {
     "name": "stdout",
     "output_type": "stream",
     "text": [
      "[[9.5e+02 1.4e-02 1.4e-02]\n",
      " [9.5e+02 1.4e-02 1.4e-02]]\n"
     ]
    }
   ],
   "source": [
    "#Harris example\n",
    "#code taken from https://stackoverflow.com/questions/40580025/np-array-intersection-attributeerror-module-object-has-no-attribute-piece\n",
    "#https://stackoverflow.com/questions/8094374/python-matplotlib-find-intersection-of-lineplots\n",
    "import scipy.interpolate\n",
    "import scipy.optimize as optimize\n",
    "import numpy as np\n",
    "\n",
    "x1 = np.array([500,600,700,800,900,1000])\n",
    "y1 = np.array([0.09,0.051,0.032,0.022,0.016,0.012])\n",
    "x2 = np.array([500,600,700,800,900,1000])\n",
    "y2 = np.array([0.033,0.026,0.021,0.017,0.015,0.013])   \n",
    "\n",
    "p1=scipy.interpolate.BPoly.from_derivatives(x1,y1[:,np.newaxis])\n",
    "p2=scipy.interpolate.BPoly.from_derivatives(x2,y2[:,np.newaxis])\n",
    "\n",
    "def pdiff(x):\n",
    "    return p1(x)-p2(x)\n",
    "\n",
    "xs=np.r_[x1,x2]\n",
    "xs.sort()\n",
    "x_min=xs.min()\n",
    "x_max=xs.max()\n",
    "x_mid=xs[:-1]+np.diff(xs)/2\n",
    "roots=set()\n",
    "for val in x_mid:\n",
    "    root,infodict,ier,mesg = optimize.fsolve(pdiff,val,full_output=True)\n",
    "    # ier==1 indicates a root has been found\n",
    "    if ier==1 and x_min<root<x_max:\n",
    "        roots.add(root[0])\n",
    "roots=list(roots)        \n",
    "print(np.column_stack((roots,p1(roots),p2(roots))))\n",
    "\n",
    "#EXACTLY the same results as Harris"
   ]
  },
  {
   "cell_type": "code",
   "execution_count": 1,
   "metadata": {},
   "outputs": [
    {
     "name": "stdout",
     "output_type": "stream",
     "text": [
      "[[1.23333333e+03 7.86666667e-04 7.86666667e-04]\n",
      " [1.23333333e+03 7.86666667e-04 7.86666667e-04]]\n"
     ]
    }
   ],
   "source": [
    "#code taken from https://stackoverflow.com/questions/40580025/np-array-intersection-attributeerror-module-object-has-no-attribute-piece\n",
    "#https://stackoverflow.com/questions/8094374/python-matplotlib-find-intersection-of-lineplots\n",
    "import scipy.interpolate\n",
    "import scipy.optimize as optimize\n",
    "import numpy as np\n",
    "\n",
    "x1 = np.array([1100,1200,1300,1400])\n",
    "y1 = np.array([0.00135,0.00088,0.0006,0.00043])\n",
    "x2 = np.array([1100,1200,1300,1400])\n",
    "y2 = np.array([0.00119,0.00086,0.00064,0.0005])   \n",
    "\n",
    "p1=scipy.interpolate.BPoly.from_derivatives(x1,y1[:,np.newaxis])\n",
    "p2=scipy.interpolate.BPoly.from_derivatives(x2,y2[:,np.newaxis])\n",
    "\n",
    "def pdiff(x):\n",
    "    return p1(x)-p2(x)\n",
    "\n",
    "xs=np.r_[x1,x2]\n",
    "xs.sort()\n",
    "x_min=xs.min()\n",
    "x_max=xs.max()\n",
    "x_mid=xs[:-1]+np.diff(xs)/2\n",
    "roots=set()\n",
    "for val in x_mid:\n",
    "    root,infodict,ier,mesg = optimize.fsolve(pdiff,val,full_output=True)\n",
    "    # ier==1 indicates a root has been found\n",
    "    if ier==1 and x_min<root<x_max:\n",
    "        roots.add(root[0])\n",
    "roots=list(roots)        \n",
    "print(np.column_stack((roots,p1(roots),p2(roots))))\n",
    "\n",
    "#hot spot temp 1233 degrees C, hot fraction 0.000786, assuming a cold crustal temp of 200 degrees C"
   ]
  },
  {
   "cell_type": "code",
   "execution_count": 2,
   "metadata": {},
   "outputs": [
    {
     "name": "stdout",
     "output_type": "stream",
     "text": [
      "[[1.22222222e+03 1.02000000e-03 1.02000000e-03]]\n"
     ]
    }
   ],
   "source": [
    "#code taken from https://stackoverflow.com/questions/40580025/np-array-intersection-attributeerror-module-object-has-no-attribute-piece\n",
    "#https://stackoverflow.com/questions/8094374/python-matplotlib-find-intersection-of-lineplots\n",
    "import scipy.interpolate\n",
    "import scipy.optimize as optimize\n",
    "import numpy as np\n",
    "\n",
    "x1 = np.array([1000,1100,1200,1300])\n",
    "y1 = np.array([0.00275,0.00167,0.0011,0.00074])\n",
    "x2 = np.array([1000,1100,1200,1300])\n",
    "y2 = np.array([0.0022,0.0015,0.00108,0.00081])   \n",
    "\n",
    "p1=scipy.interpolate.BPoly.from_derivatives(x1,y1[:,np.newaxis])\n",
    "p2=scipy.interpolate.BPoly.from_derivatives(x2,y2[:,np.newaxis])\n",
    "\n",
    "def pdiff(x):\n",
    "    return p1(x)-p2(x)\n",
    "\n",
    "xs=np.r_[x1,x2]\n",
    "xs.sort()\n",
    "x_min=xs.min()\n",
    "x_max=xs.max()\n",
    "x_mid=xs[:-1]+np.diff(xs)/2\n",
    "roots=set()\n",
    "for val in x_mid:\n",
    "    root,infodict,ier,mesg = optimize.fsolve(pdiff,val,full_output=True)\n",
    "    # ier==1 indicates a root has been found\n",
    "    if ier==1 and x_min<root<x_max:\n",
    "        roots.add(root[0])\n",
    "roots=list(roots)        \n",
    "print(np.column_stack((roots,p1(roots),p2(roots))))\n",
    "\n",
    "#hot spot temp 1222 degrees C, hot fraction 0.00102, assuming a cold crustal temp of 200 degrees C and using emissivity of 0.9"
   ]
  },
  {
   "cell_type": "code",
   "execution_count": 3,
   "metadata": {},
   "outputs": [
    {
     "name": "stdout",
     "output_type": "stream",
     "text": [
      "[[1.16666667e+03 1.90000000e-03 1.90000000e-03]]\n"
     ]
    }
   ],
   "source": [
    "#code taken from https://stackoverflow.com/questions/40580025/np-array-intersection-attributeerror-module-object-has-no-attribute-piece\n",
    "#https://stackoverflow.com/questions/8094374/python-matplotlib-find-intersection-of-lineplots\n",
    "import scipy.interpolate\n",
    "import scipy.optimize as optimize\n",
    "import numpy as np\n",
    "\n",
    "x1 = np.array([1000,1100,1200,1300])\n",
    "y1 = np.array([0.0041,0.0025,0.0016,0.0011])\n",
    "x2 = np.array([1000,1100,1200,1300])\n",
    "y2 = np.array([0.0034,0.0023,0.0017,0.00125])   \n",
    "\n",
    "p1=scipy.interpolate.BPoly.from_derivatives(x1,y1[:,np.newaxis])\n",
    "p2=scipy.interpolate.BPoly.from_derivatives(x2,y2[:,np.newaxis])\n",
    "\n",
    "def pdiff(x):\n",
    "    return p1(x)-p2(x)\n",
    "\n",
    "xs=np.r_[x1,x2]\n",
    "xs.sort()\n",
    "x_min=xs.min()\n",
    "x_max=xs.max()\n",
    "x_mid=xs[:-1]+np.diff(xs)/2\n",
    "roots=set()\n",
    "for val in x_mid:\n",
    "    root,infodict,ier,mesg = optimize.fsolve(pdiff,val,full_output=True)\n",
    "    # ier==1 indicates a root has been found\n",
    "    if ier==1 and x_min<root<x_max:\n",
    "        roots.add(root[0])\n",
    "roots=list(roots)        \n",
    "print(np.column_stack((roots,p1(roots),p2(roots))))\n",
    "\n",
    "#hot spot temp 1166 degrees C, hot fraction 0.0019, assuming a cold crustal temp of 200 degrees C and using emissivity of 0.6"
   ]
  },
  {
   "cell_type": "code",
   "execution_count": 1,
   "metadata": {},
   "outputs": [
    {
     "name": "stdout",
     "output_type": "stream",
     "text": [
      "[[1.45e+03 1.90e-04 1.90e-04]]\n"
     ]
    }
   ],
   "source": [
    "#code taken from https://stackoverflow.com/questions/40580025/np-array-intersection-attributeerror-module-object-has-no-attribute-piece\n",
    "#https://stackoverflow.com/questions/8094374/python-matplotlib-find-intersection-of-lineplots\n",
    "#13.11.2006 Landsat 7\n",
    "import scipy.interpolate\n",
    "import scipy.optimize as optimize\n",
    "import numpy as np\n",
    "\n",
    "x1 = np.array([1200,1300,1400,1500])\n",
    "y1 = np.array([0.00044,0.0003,0.00022,0.00016])\n",
    "x2 = np.array([1200,1300,1400,1500])\n",
    "y2 = np.array([0.00037,0.00028,0.00021,0.00017])   \n",
    "\n",
    "p1=scipy.interpolate.BPoly.from_derivatives(x1,y1[:,np.newaxis])\n",
    "p2=scipy.interpolate.BPoly.from_derivatives(x2,y2[:,np.newaxis])\n",
    "\n",
    "def pdiff(x):\n",
    "    return p1(x)-p2(x)\n",
    "\n",
    "xs=np.r_[x1,x2]\n",
    "xs.sort()\n",
    "x_min=xs.min()\n",
    "x_max=xs.max()\n",
    "x_mid=xs[:-1]+np.diff(xs)/2\n",
    "roots=set()\n",
    "for val in x_mid:\n",
    "    root,infodict,ier,mesg = optimize.fsolve(pdiff,val,full_output=True)\n",
    "    # ier==1 indicates a root has been found\n",
    "    if ier==1 and x_min<root<x_max:\n",
    "        roots.add(root[0])\n",
    "roots=list(roots)        \n",
    "print(np.column_stack((roots,p1(roots),p2(roots))))\n",
    "\n",
    "#hot spot temp 1450 degrees C, hot fraction 0.00019, assuming a cold crustal temp of 200 degrees C and using emissivity of 0.9"
   ]
  },
  {
   "cell_type": "code",
   "execution_count": 2,
   "metadata": {},
   "outputs": [
    {
     "name": "stdout",
     "output_type": "stream",
     "text": [
      "[[1.39090909e+03 1.04545455e-04 1.04545455e-04]\n",
      " [1.39090909e+03 1.04545455e-04 1.04545455e-04]]\n"
     ]
    }
   ],
   "source": [
    "#code taken from https://stackoverflow.com/questions/40580025/np-array-intersection-attributeerror-module-object-has-no-attribute-piece\n",
    "#https://stackoverflow.com/questions/8094374/python-matplotlib-find-intersection-of-lineplots\n",
    "#18.03.06 Landsat 7\n",
    "import scipy.interpolate\n",
    "import scipy.optimize as optimize\n",
    "import numpy as np\n",
    "\n",
    "x1 = np.array([1200,1300,1400])\n",
    "y1 = np.array([0.00021,0.00015,0.0001])\n",
    "x2 = np.array([1200,1300,1400])\n",
    "y2 = np.array([0.00018,0.00013,0.000102])   \n",
    "\n",
    "p1=scipy.interpolate.BPoly.from_derivatives(x1,y1[:,np.newaxis])\n",
    "p2=scipy.interpolate.BPoly.from_derivatives(x2,y2[:,np.newaxis])\n",
    "\n",
    "def pdiff(x):\n",
    "    return p1(x)-p2(x)\n",
    "\n",
    "xs=np.r_[x1,x2]\n",
    "xs.sort()\n",
    "x_min=xs.min()\n",
    "x_max=xs.max()\n",
    "x_mid=xs[:-1]+np.diff(xs)/2\n",
    "roots=set()\n",
    "for val in x_mid:\n",
    "    root,infodict,ier,mesg = optimize.fsolve(pdiff,val,full_output=True)\n",
    "    # ier==1 indicates a root has been found\n",
    "    if ier==1 and x_min<root<x_max:\n",
    "        roots.add(root[0])\n",
    "roots=list(roots)        \n",
    "print(np.column_stack((roots,p1(roots),p2(roots))))\n",
    "\n",
    "#hot spot temp 1391 degrees C, hot fraction 0.000104, assuming a cold crustal temp of 200 degrees C and using emissivity of 0.9"
   ]
  },
  {
   "cell_type": "code",
   "execution_count": 3,
   "metadata": {},
   "outputs": [
    {
     "name": "stdout",
     "output_type": "stream",
     "text": [
      "[[1.2250e+03 1.0125e-03 1.0125e-03]\n",
      " [1.2250e+03 1.0125e-03 1.0125e-03]]\n"
     ]
    }
   ],
   "source": [
    "#code taken from https://stackoverflow.com/questions/40580025/np-array-intersection-attributeerror-module-object-has-no-attribute-piece\n",
    "#https://stackoverflow.com/questions/8094374/python-matplotlib-find-intersection-of-lineplots\n",
    "#31.01.18 Landsat 8\n",
    "import scipy.interpolate\n",
    "import scipy.optimize as optimize\n",
    "import numpy as np\n",
    "\n",
    "x1 = np.array([1000,1100,1200,1300])\n",
    "y1 = np.array([0.0029,0.00173,0.0011,0.00075])\n",
    "x2 = np.array([1000,1100,1200,1300])\n",
    "y2 = np.array([0.00217,0.0015,0.00108,0.00081])   \n",
    "\n",
    "p1=scipy.interpolate.BPoly.from_derivatives(x1,y1[:,np.newaxis])\n",
    "p2=scipy.interpolate.BPoly.from_derivatives(x2,y2[:,np.newaxis])\n",
    "\n",
    "def pdiff(x):\n",
    "    return p1(x)-p2(x)\n",
    "\n",
    "xs=np.r_[x1,x2]\n",
    "xs.sort()\n",
    "x_min=xs.min()\n",
    "x_max=xs.max()\n",
    "x_mid=xs[:-1]+np.diff(xs)/2\n",
    "roots=set()\n",
    "for val in x_mid:\n",
    "    root,infodict,ier,mesg = optimize.fsolve(pdiff,val,full_output=True)\n",
    "    # ier==1 indicates a root has been found\n",
    "    if ier==1 and x_min<root<x_max:\n",
    "        roots.add(root[0])\n",
    "roots=list(roots)        \n",
    "print(np.column_stack((roots,p1(roots),p2(roots))))\n",
    "\n",
    "#hot spot temp 1225 degrees C, hot fraction 0.0010125, assuming a cold crustal temp of 200 degrees C and using emissivity of 0.9"
   ]
  },
  {
   "cell_type": "code",
   "execution_count": 4,
   "metadata": {},
   "outputs": [
    {
     "name": "stdout",
     "output_type": "stream",
     "text": [
      "[[1.26e+03 1.00e-03 1.00e-03]\n",
      " [1.26e+03 1.00e-03 1.00e-03]]\n"
     ]
    }
   ],
   "source": [
    "#code taken from https://stackoverflow.com/questions/40580025/np-array-intersection-attributeerror-module-object-has-no-attribute-piece\n",
    "#https://stackoverflow.com/questions/8094374/python-matplotlib-find-intersection-of-lineplots\n",
    "#10.02.18 Sentinel 2\n",
    "import scipy.interpolate\n",
    "import scipy.optimize as optimize\n",
    "import numpy as np\n",
    "\n",
    "x1 = np.array([1000,1100,1200,1300])\n",
    "y1 = np.array([0.0032,0.0019,0.00124,0.00084])\n",
    "x2 = np.array([1000,1100,1200,1300])\n",
    "y2 = np.array([0.0024,0.00163,0.00118,0.00088])   \n",
    "\n",
    "p1=scipy.interpolate.BPoly.from_derivatives(x1,y1[:,np.newaxis])\n",
    "p2=scipy.interpolate.BPoly.from_derivatives(x2,y2[:,np.newaxis])\n",
    "\n",
    "def pdiff(x):\n",
    "    return p1(x)-p2(x)\n",
    "\n",
    "xs=np.r_[x1,x2]\n",
    "xs.sort()\n",
    "x_min=xs.min()\n",
    "x_max=xs.max()\n",
    "x_mid=xs[:-1]+np.diff(xs)/2\n",
    "roots=set()\n",
    "for val in x_mid:\n",
    "    root,infodict,ier,mesg = optimize.fsolve(pdiff,val,full_output=True)\n",
    "    # ier==1 indicates a root has been found\n",
    "    if ier==1 and x_min<root<x_max:\n",
    "        roots.add(root[0])\n",
    "roots=list(roots)        \n",
    "print(np.column_stack((roots,p1(roots),p2(roots))))\n",
    "\n",
    "#hot spot temp 1260 degrees C, hot fraction 0.001, assuming a cold crustal temp of 200 degrees C and using emissivity of 0.9"
   ]
  },
  {
   "cell_type": "code",
   "execution_count": 5,
   "metadata": {},
   "outputs": [
    {
     "name": "stdout",
     "output_type": "stream",
     "text": [
      "[[1.0750e+03 1.2875e-03 1.2875e-03]]\n"
     ]
    }
   ],
   "source": [
    "#code taken from https://stackoverflow.com/questions/40580025/np-array-intersection-attributeerror-module-object-has-no-attribute-piece\n",
    "#https://stackoverflow.com/questions/8094374/python-matplotlib-find-intersection-of-lineplots\n",
    "#29.03.18 Sentinel 2\n",
    "import scipy.interpolate\n",
    "import scipy.optimize as optimize\n",
    "import numpy as np\n",
    "\n",
    "x1 = np.array([900,1000,1100,1200,1300])\n",
    "y1 = np.array([0.0034,0.00185,0.0011,0.00072,0.00049])\n",
    "x2 = np.array([900,1000,1100,1200,1300])\n",
    "y2 = np.array([0.00265,0.0017,0.00115,0.00084,0.00063])   \n",
    "\n",
    "p1=scipy.interpolate.BPoly.from_derivatives(x1,y1[:,np.newaxis])\n",
    "p2=scipy.interpolate.BPoly.from_derivatives(x2,y2[:,np.newaxis])\n",
    "\n",
    "def pdiff(x):\n",
    "    return p1(x)-p2(x)\n",
    "\n",
    "xs=np.r_[x1,x2]\n",
    "xs.sort()\n",
    "x_min=xs.min()\n",
    "x_max=xs.max()\n",
    "x_mid=xs[:-1]+np.diff(xs)/2\n",
    "roots=set()\n",
    "for val in x_mid:\n",
    "    root,infodict,ier,mesg = optimize.fsolve(pdiff,val,full_output=True)\n",
    "    # ier==1 indicates a root has been found\n",
    "    if ier==1 and x_min<root<x_max:\n",
    "        roots.add(root[0])\n",
    "roots=list(roots)        \n",
    "print(np.column_stack((roots,p1(roots),p2(roots))))\n",
    "\n",
    "#hot spot temp 1075 degrees C, hot fraction 0.0012875, assuming a cold crustal temp of 200 degrees C and using emissivity of 0.9"
   ]
  },
  {
   "cell_type": "code",
   "execution_count": 1,
   "metadata": {},
   "outputs": [
    {
     "name": "stdout",
     "output_type": "stream",
     "text": [
      "[[1.3e+03 2.3e-04 2.3e-04]\n",
      " [1.3e+03 2.3e-04 2.3e-04]]\n"
     ]
    }
   ],
   "source": [
    "#code taken from https://stackoverflow.com/questions/40580025/np-array-intersection-attributeerror-module-object-has-no-attribute-piece\n",
    "#https://stackoverflow.com/questions/8094374/python-matplotlib-find-intersection-of-lineplots\n",
    "#13.11.06 Landsat 7 version 2 (different pixels)\n",
    "import scipy.interpolate\n",
    "import scipy.optimize as optimize\n",
    "import numpy as np\n",
    "\n",
    "x1 = np.array([1100,1200,1300,1400])\n",
    "y1 = np.array([0.00051,0.00034,0.00023,0.000165])\n",
    "x2 = np.array([1100,1200,1300,1400])\n",
    "y2 = np.array([0.00042,0.00031,0.00023,0.00018])   \n",
    "\n",
    "p1=scipy.interpolate.BPoly.from_derivatives(x1,y1[:,np.newaxis])\n",
    "p2=scipy.interpolate.BPoly.from_derivatives(x2,y2[:,np.newaxis])\n",
    "\n",
    "def pdiff(x):\n",
    "    return p1(x)-p2(x)\n",
    "\n",
    "xs=np.r_[x1,x2]\n",
    "xs.sort()\n",
    "x_min=xs.min()\n",
    "x_max=xs.max()\n",
    "x_mid=xs[:-1]+np.diff(xs)/2\n",
    "roots=set()\n",
    "for val in x_mid:\n",
    "    root,infodict,ier,mesg = optimize.fsolve(pdiff,val,full_output=True)\n",
    "    # ier==1 indicates a root has been found\n",
    "    if ier==1 and x_min<root<x_max:\n",
    "        roots.add(root[0])\n",
    "roots=list(roots)        \n",
    "print(np.column_stack((roots,p1(roots),p2(roots))))\n",
    "\n",
    "#hot spot temp 1300 degrees C, hot fraction 0.00023, assuming a cold crustal temp of 200 degrees C and using emissivity of 0.9"
   ]
  },
  {
   "cell_type": "code",
   "execution_count": 7,
   "metadata": {},
   "outputs": [
    {
     "name": "stdout",
     "output_type": "stream",
     "text": [
      "[[1.38666667e+03 2.52000000e-04 2.52000000e-04]\n",
      " [1.38666667e+03 2.52000000e-04 2.52000000e-04]]\n"
     ]
    }
   ],
   "source": [
    "#code taken from https://stackoverflow.com/questions/40580025/np-array-intersection-attributeerror-module-object-has-no-attribute-piece\n",
    "#https://stackoverflow.com/questions/8094374/python-matplotlib-find-intersection-of-lineplots\n",
    "#13.11.06 Landsat 7 version 3 (original pixels Rothery)\n",
    "import scipy.interpolate\n",
    "import scipy.optimize as optimize\n",
    "import numpy as np\n",
    "\n",
    "x1 = np.array([1200,1250,1300,1350,1400])\n",
    "y1 = np.array([0.00049,0.00041,0.00034,0.000285,0.00024])\n",
    "x2 = np.array([1200,1250,1300,1350,1400])\n",
    "y2 = np.array([0.00042,0.00036,0.00031,0.000274,0.000244])   \n",
    "\n",
    "p1=scipy.interpolate.BPoly.from_derivatives(x1,y1[:,np.newaxis])\n",
    "p2=scipy.interpolate.BPoly.from_derivatives(x2,y2[:,np.newaxis])\n",
    "\n",
    "def pdiff(x):\n",
    "    return p1(x)-p2(x)\n",
    "\n",
    "xs=np.r_[x1,x2]\n",
    "xs.sort()\n",
    "x_min=xs.min()\n",
    "x_max=xs.max()\n",
    "x_mid=xs[:-1]+np.diff(xs)/2\n",
    "roots=set()\n",
    "for val in x_mid:\n",
    "    root,infodict,ier,mesg = optimize.fsolve(pdiff,val,full_output=True)\n",
    "    # ier==1 indicates a root has been found\n",
    "    if ier==1 and x_min<root<x_max:\n",
    "        roots.add(root[0])\n",
    "roots=list(roots)        \n",
    "print(np.column_stack((roots,p1(roots),p2(roots))))\n",
    "\n",
    "#hot spot temp 14 degrees C, hot fraction 0.00024, assuming a cold crustal temp of 200 degrees C and using emissivity of 0.9"
   ]
  },
  {
   "cell_type": "code",
   "execution_count": 10,
   "metadata": {},
   "outputs": [
    {
     "name": "stdout",
     "output_type": "stream",
     "text": [
      "[[1.27941176e+03 2.78235294e-04 2.78235294e-04]\n",
      " [1.27941176e+03 2.78235294e-04 2.78235294e-04]]\n"
     ]
    }
   ],
   "source": [
    "#code taken from https://stackoverflow.com/questions/40580025/np-array-intersection-attributeerror-module-object-has-no-attribute-piece\n",
    "#https://stackoverflow.com/questions/8094374/python-matplotlib-find-intersection-of-lineplots\n",
    "#13.11.06 Landsat 7 version 4 (new pixels Rothery)\n",
    "import scipy.interpolate\n",
    "import scipy.optimize as optimize\n",
    "import numpy as np\n",
    "\n",
    "x1 = np.array([1200,1250,1300,1350,1400])\n",
    "y1 = np.array([0.00038,0.00031,0.000256,0.00021,0.00018])\n",
    "x2 = np.array([1200,1250,1300,1350,1400])\n",
    "y2 = np.array([0.00035,0.0003,0.000263,0.00023,0.000204])   \n",
    "\n",
    "p1=scipy.interpolate.BPoly.from_derivatives(x1,y1[:,np.newaxis])\n",
    "p2=scipy.interpolate.BPoly.from_derivatives(x2,y2[:,np.newaxis])\n",
    "\n",
    "def pdiff(x):\n",
    "    return p1(x)-p2(x)\n",
    "\n",
    "xs=np.r_[x1,x2]\n",
    "xs.sort()\n",
    "x_min=xs.min()\n",
    "x_max=xs.max()\n",
    "x_mid=xs[:-1]+np.diff(xs)/2\n",
    "roots=set()\n",
    "for val in x_mid:\n",
    "    root,infodict,ier,mesg = optimize.fsolve(pdiff,val,full_output=True)\n",
    "    # ier==1 indicates a root has been found\n",
    "    if ier==1 and x_min<root<x_max:\n",
    "        roots.add(root[0])\n",
    "roots=list(roots)        \n",
    "print(np.column_stack((roots,p1(roots),p2(roots))))\n",
    "\n",
    "#hot spot temp 14 degrees C, hot fraction 0.00024, assuming a cold crustal temp of 200 degrees C and using emissivity of 0.9"
   ]
  },
  {
   "cell_type": "code",
   "execution_count": 11,
   "metadata": {},
   "outputs": [
    {
     "name": "stdout",
     "output_type": "stream",
     "text": [
      "[[1.35e+03 1.35e-04 1.35e-04]\n",
      " [1.35e+03 1.35e-04 1.35e-04]\n",
      " [1.35e+03 1.35e-04 1.35e-04]\n",
      " [1.35e+03 1.35e-04 1.35e-04]\n",
      " [1.35e+03 1.35e-04 1.35e-04]\n",
      " [1.35e+03 1.35e-04 1.35e-04]]\n"
     ]
    }
   ],
   "source": [
    "#code taken from https://stackoverflow.com/questions/40580025/np-array-intersection-attributeerror-module-object-has-no-attribute-piece\n",
    "#https://stackoverflow.com/questions/8094374/python-matplotlib-find-intersection-of-lineplots\n",
    "#18.03.06 Landsat 7 v2 Rothery\n",
    "import scipy.interpolate\n",
    "import scipy.optimize as optimize\n",
    "import numpy as np\n",
    "\n",
    "x1 = np.array([1200,1250,1300,1350,1400])\n",
    "y1 = np.array([0.00023,0.00019,0.00016,0.000135,0.000115])\n",
    "x2 = np.array([1200,1250,1300,1350,1400])\n",
    "y2 = np.array([0.0002,0.00017,0.000153,0.000135,0.00012])   \n",
    "\n",
    "p1=scipy.interpolate.BPoly.from_derivatives(x1,y1[:,np.newaxis])\n",
    "p2=scipy.interpolate.BPoly.from_derivatives(x2,y2[:,np.newaxis])\n",
    "\n",
    "def pdiff(x):\n",
    "    return p1(x)-p2(x)\n",
    "\n",
    "xs=np.r_[x1,x2]\n",
    "xs.sort()\n",
    "x_min=xs.min()\n",
    "x_max=xs.max()\n",
    "x_mid=xs[:-1]+np.diff(xs)/2\n",
    "roots=set()\n",
    "for val in x_mid:\n",
    "    root,infodict,ier,mesg = optimize.fsolve(pdiff,val,full_output=True)\n",
    "    # ier==1 indicates a root has been found\n",
    "    if ier==1 and x_min<root<x_max:\n",
    "        roots.add(root[0])\n",
    "roots=list(roots)        \n",
    "print(np.column_stack((roots,p1(roots),p2(roots))))\n",
    "\n",
    "#hot spot temp 1391 degrees C, hot fraction 0.000104, assuming a cold crustal temp of 200 degrees C and using emissivity of 0.9"
   ]
  },
  {
   "cell_type": "code",
   "execution_count": 14,
   "metadata": {},
   "outputs": [
    {
     "name": "stdout",
     "output_type": "stream",
     "text": [
      "[[1.2125e+03 1.1700e-03 1.1700e-03]]\n"
     ]
    }
   ],
   "source": [
    "#code taken from https://stackoverflow.com/questions/40580025/np-array-intersection-attributeerror-module-object-has-no-attribute-piece\n",
    "#https://stackoverflow.com/questions/8094374/python-matplotlib-find-intersection-of-lineplots\n",
    "#31.01.18 Landsat 8 V2 ROTHERY\n",
    "import scipy.interpolate\n",
    "import scipy.optimize as optimize\n",
    "import numpy as np\n",
    "\n",
    "x1 = np.array([1100,1150,1200,1250,1300,1350,1400])\n",
    "y1 = np.array([0.00192,0.00148,0.00123,0.00099,0.000852,0.000693,0.000595])\n",
    "x2 = np.array([1100,1150,1200,1250,1300,1350,1400])\n",
    "y2 = np.array([0.00168,0.00142,0.00121,0.00105,0.00091,0.0008,0.0007])   \n",
    "\n",
    "p1=scipy.interpolate.BPoly.from_derivatives(x1,y1[:,np.newaxis])\n",
    "p2=scipy.interpolate.BPoly.from_derivatives(x2,y2[:,np.newaxis])\n",
    "\n",
    "def pdiff(x):\n",
    "    return p1(x)-p2(x)\n",
    "\n",
    "xs=np.r_[x1,x2]\n",
    "xs.sort()\n",
    "x_min=xs.min()\n",
    "x_max=xs.max()\n",
    "x_mid=xs[:-1]+np.diff(xs)/2\n",
    "roots=set()\n",
    "for val in x_mid:\n",
    "    root,infodict,ier,mesg = optimize.fsolve(pdiff,val,full_output=True)\n",
    "    # ier==1 indicates a root has been found\n",
    "    if ier==1 and x_min<root<x_max:\n",
    "        roots.add(root[0])\n",
    "roots=list(roots)        \n",
    "print(np.column_stack((roots,p1(roots),p2(roots))))\n",
    "\n",
    "#hot spot temp 1225 degrees C, hot fraction 0.0010125, assuming a cold crustal temp of 200 degrees C and using emissivity of 0.9"
   ]
  },
  {
   "cell_type": "code",
   "execution_count": 17,
   "metadata": {},
   "outputs": [
    {
     "name": "stdout",
     "output_type": "stream",
     "text": [
      "[[1.05625e+03 1.53625e-03 1.53625e-03]]\n"
     ]
    }
   ],
   "source": [
    "#code taken from https://stackoverflow.com/questions/40580025/np-array-intersection-attributeerror-module-object-has-no-attribute-piece\n",
    "#https://stackoverflow.com/questions/8094374/python-matplotlib-find-intersection-of-lineplots\n",
    "#29.03.18 Sentinel 2 V2 ROTHERY\n",
    "import scipy.interpolate\n",
    "import scipy.optimize as optimize\n",
    "import numpy as np\n",
    "\n",
    "x1 = np.array([1000,1050,1100,1150,1200,1250,1300])\n",
    "y1 = np.array([0.00205,0.00158,0.00123,0.00098,0.00079,0.00065,0.00054])\n",
    "x2 = np.array([1000,1050,1100,1150,1200,1250,1300])\n",
    "y2 = np.array([0.00191,0.00157,0.0013,0.0011,0.00094,0.00081,0.00071])   \n",
    "\n",
    "p1=scipy.interpolate.BPoly.from_derivatives(x1,y1[:,np.newaxis])\n",
    "p2=scipy.interpolate.BPoly.from_derivatives(x2,y2[:,np.newaxis])\n",
    "\n",
    "def pdiff(x):\n",
    "    return p1(x)-p2(x)\n",
    "\n",
    "xs=np.r_[x1,x2]\n",
    "xs.sort()\n",
    "x_min=xs.min()\n",
    "x_max=xs.max()\n",
    "x_mid=xs[:-1]+np.diff(xs)/2\n",
    "roots=set()\n",
    "for val in x_mid:\n",
    "    root,infodict,ier,mesg = optimize.fsolve(pdiff,val,full_output=True)\n",
    "    # ier==1 indicates a root has been found\n",
    "    if ier==1 and x_min<root<x_max:\n",
    "        roots.add(root[0])\n",
    "roots=list(roots)        \n",
    "print(np.column_stack((roots,p1(roots),p2(roots))))\n",
    "\n",
    "#hot spot temp 1075 degrees C, hot fraction 0.0012875, assuming a cold crustal temp of 200 degrees C and using emissivity of 0.9"
   ]
  },
  {
   "cell_type": "code",
   "execution_count": 18,
   "metadata": {},
   "outputs": [
    {
     "name": "stdout",
     "output_type": "stream",
     "text": [
      "[[1.23571429e+03 1.19142857e-03 1.19142857e-03]]\n"
     ]
    }
   ],
   "source": [
    "#code taken from https://stackoverflow.com/questions/40580025/np-array-intersection-attributeerror-module-object-has-no-attribute-piece\n",
    "#https://stackoverflow.com/questions/8094374/python-matplotlib-find-intersection-of-lineplots\n",
    "#10.02.18 Sentinel 2 V2 ROTHERY\n",
    "import scipy.interpolate\n",
    "import scipy.optimize as optimize\n",
    "import numpy as np\n",
    "\n",
    "x1 = np.array([1000,1050,1100,1150,1200,1250,1300])\n",
    "y1 = np.array([0.00355,0.00272,0.00213,0.0017,0.00137,0.00112,0.00093])\n",
    "x2 = np.array([1000,1050,1100,1150,1200,1250,1300])\n",
    "y2 = np.array([0.00268,0.0022,0.00183,0.00154,0.00132,0.00114,0.00099])   \n",
    "\n",
    "p1=scipy.interpolate.BPoly.from_derivatives(x1,y1[:,np.newaxis])\n",
    "p2=scipy.interpolate.BPoly.from_derivatives(x2,y2[:,np.newaxis])\n",
    "\n",
    "def pdiff(x):\n",
    "    return p1(x)-p2(x)\n",
    "\n",
    "xs=np.r_[x1,x2]\n",
    "xs.sort()\n",
    "x_min=xs.min()\n",
    "x_max=xs.max()\n",
    "x_mid=xs[:-1]+np.diff(xs)/2\n",
    "roots=set()\n",
    "for val in x_mid:\n",
    "    root,infodict,ier,mesg = optimize.fsolve(pdiff,val,full_output=True)\n",
    "    # ier==1 indicates a root has been found\n",
    "    if ier==1 and x_min<root<x_max:\n",
    "        roots.add(root[0])\n",
    "roots=list(roots)        \n",
    "print(np.column_stack((roots,p1(roots),p2(roots))))\n",
    "\n",
    "#hot spot temp 1260 degrees C, hot fraction 0.001, assuming a cold crustal temp of 200 degrees C and using emissivity of 0.9"
   ]
  },
  {
   "cell_type": "code",
   "execution_count": 5,
   "metadata": {},
   "outputs": [
    {
     "name": "stdout",
     "output_type": "stream",
     "text": [
      "[[1.23714286e+03 1.31845714e-03 1.31845714e-03]]\n"
     ]
    }
   ],
   "source": [
    "#code taken from https://stackoverflow.com/questions/40580025/np-array-intersection-attributeerror-module-object-has-no-attribute-piece\n",
    "#https://stackoverflow.com/questions/8094374/python-matplotlib-find-intersection-of-lineplots\n",
    "#13.11.06 Sentinel 2 V2 ROTHERY\n",
    "import scipy.interpolate\n",
    "import scipy.optimize as optimize\n",
    "import numpy as np\n",
    "\n",
    "x1 = np.array([1200,1250,1300,1350,1400])\n",
    "y1 = np.array([0.001522,0.001248,0.001035,0.000868,0.000735])\n",
    "x2 = np.array([1200,1250,1300,1350,1400])\n",
    "y2 = np.array([0.00147,0.001266,0.001102,0.000966,0.000855])   \n",
    "\n",
    "p1=scipy.interpolate.BPoly.from_derivatives(x1,y1[:,np.newaxis])\n",
    "p2=scipy.interpolate.BPoly.from_derivatives(x2,y2[:,np.newaxis])\n",
    "\n",
    "def pdiff(x):\n",
    "    return p1(x)-p2(x)\n",
    "\n",
    "xs=np.r_[x1,x2]\n",
    "xs.sort()\n",
    "x_min=xs.min()\n",
    "x_max=xs.max()\n",
    "x_mid=xs[:-1]+np.diff(xs)/2\n",
    "roots=set()\n",
    "for val in x_mid:\n",
    "    root,infodict,ier,mesg = optimize.fsolve(pdiff,val,full_output=True)\n",
    "    # ier==1 indicates a root has been found\n",
    "    if ier==1 and x_min<root<x_max:\n",
    "        roots.add(root[0])\n",
    "roots=list(roots)        \n",
    "print(np.column_stack((roots,p1(roots),p2(roots))))\n",
    "\n",
    "#hot spot temp 1260 degrees C, hot fraction 0.001, assuming a cold crustal temp of 200 degrees C and using emissivity of 0.9"
   ]
  },
  {
   "cell_type": "code",
   "execution_count": null,
   "metadata": {},
   "outputs": [],
   "source": []
  }
 ],
 "metadata": {
  "kernelspec": {
   "display_name": "Python 2",
   "language": "python",
   "name": "python2"
  },
  "language_info": {
   "codemirror_mode": {
    "name": "ipython",
    "version": 2
   },
   "file_extension": ".py",
   "mimetype": "text/x-python",
   "name": "python",
   "nbconvert_exporter": "python",
   "pygments_lexer": "ipython2",
   "version": "2.7.15"
  }
 },
 "nbformat": 4,
 "nbformat_minor": 2
}
